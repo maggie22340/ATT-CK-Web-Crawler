{
 "cells": [
  {
   "cell_type": "code",
   "execution_count": 3,
   "metadata": {},
   "outputs": [],
   "source": [
    "import requests\n",
    "import pandas as pd\n",
    "from bs4 import BeautifulSoup"
   ]
  },
  {
   "cell_type": "code",
   "execution_count": 5,
   "metadata": {},
   "outputs": [],
   "source": [
    "url=\"https://shield.mitre.org/attack_mapping/\"\n",
    "res=requests.get(url)\n",
    "soup=BeautifulSoup(res.text, \"lxml\")"
   ]
  },
  {
   "cell_type": "code",
   "execution_count": 6,
   "metadata": {},
   "outputs": [
    {
     "data": {
      "text/plain": [
       "<!DOCTYPE html>\n",
       "<html lang=\"en\">\n",
       "<!-- Start Page Head -->\n",
       "<head>\n",
       "<meta charset=\"utf-8\"/>\n",
       "<meta content=\"width=device-width, initial-scale=1, shrink-to-fit=no\" name=\"viewport\"/>\n",
       "<meta content=\"IE=edge\" http-equiv=\"X-UA-Compatible\"/>\n",
       "<link href=\"https://www.mitre.org/sites/all/themes/mitre/favicon.ico?ref=shield&amp;ref_host=https%3A%2F%2Fshield.mitre.org&amp;ref_path=%2Fattack_mapping%2F\" rel=\"shortcut icon\" type=\"image/x-icon\"/>\n",
       "<title>Mapping Overview</title>\n",
       "<!-- url_path: /attack_mapping/ -->\n",
       "<!-- Bootstrap CSS -->\n",
       "<link href=\"/assets/css/bootstrap.min.css\" rel=\"stylesheet\"/>\n",
       "<link href=\"/assets/css/bootstrap-glyphicon.min.css\" rel=\"stylesheet\"/>\n",
       "<link href=\"/assets/css/style.min.css?a6820e0c\" rel=\"stylesheet\" type=\"text/css\"/>\n",
       "<!-- Global site tag (gtag.js) - Google Analytics -->\n",
       "<script async=\"\" src=\"https://www.googletagmanager.com/gtag/js?id=UA-175300048-1\"></script>\n",
       "<script>\n",
       "          window.dataLayer = window.dataLayer || [];\n",
       "          function gtag(){dataLayer.push(arguments);}\n",
       "          gtag('js', new Date());\n",
       "        \n",
       "          gtag('config', 'UA-175300048-1');\n",
       "        </script>\n",
       "</head>\n",
       "<!-- End Page Head-->\n",
       "<!-- Start Body -->\n",
       "<body>\n",
       "<!-- Start Body Container -->\n",
       "<div class=\"body_container_relative\">\n",
       "<!-- Start  Content Container -->\n",
       "<div class=\"content_container\">\n",
       "<!-- Start Nav -->\n",
       "<nav class=\"navbar navbar-expand-lg navbar-dark bg-primary fixed-top\">\n",
       "<div class=\"d-none d-m-block d-lg-block d-xl-block\">\n",
       "<button aria-controls=\"sidebar\" aria-expanded=\"false\" aria-label=\"Toggle navigation\" class=\"navbar-toggler\" data-target=\"#sidebar\" data-toggle=\"collapse\" type=\"button\">\n",
       "<span class=\"navbar-toggler-icon\" id=\"sidebarCollapse\"></span>\n",
       "</button>\n",
       "</div>\n",
       "<div class=\"d-lg-none\">\n",
       "<button aria-controls=\"navbarCollapse\" aria-expanded=\"false\" aria-label=\"Toggle navigation\" class=\"navbar-toggler\" data-target=\"#navbarCollapse\" data-toggle=\"collapse\" type=\"button\">\n",
       "<span class=\"navbar-toggler-icon\" id=\"navbarCollapser\"></span>\n",
       "</button>\n",
       "</div>\n",
       "<a class=\"navbar-brand\" href=\"/\"><img class=\"shield-logo\" src=\"/assets/img/shield_logo_white.png\"/></a>\n",
       "<div class=\"collapse navbar-collapse\" id=\"navbarCollapse\">\n",
       "<ul class=\"nav nav-tabs ml-auto\">\n",
       "<li class=\"nav-item\"><a class=\"nav-link\" href=\"/matrix/\"><b>Matrix</b></a></li>\n",
       "<li class=\"nav-item dropdown\">\n",
       "<a aria-expanded=\"false\" aria-haspopup=\"true\" class=\"nav-link dropdown-toggle\" data-toggle=\"dropdown\" id=\"navbarDropdown\" role=\"button\">\n",
       "<b>Tactics</b>\n",
       "</a>\n",
       "<div aria-labelledby=\"navbarDropdown\" class=\"dropdown-menu bg-primary\">\n",
       "<a class=\"dropdown-item\" href=\"/tactics/\">All</a>\n",
       "<hr class=\"my-3 bg-light\"/>\n",
       "<a class=\"dropdown-item\" href=\"/tactics/DTA0001/\">Channel</a>\n",
       "<a class=\"dropdown-item\" href=\"/tactics/DTA0002/\">Collect</a>\n",
       "<a class=\"dropdown-item\" href=\"/tactics/DTA0003/\">Contain</a>\n",
       "<a class=\"dropdown-item\" href=\"/tactics/DTA0004/\">Detect</a>\n",
       "<a class=\"dropdown-item\" href=\"/tactics/DTA0005/\">Disrupt</a>\n",
       "<a class=\"dropdown-item\" href=\"/tactics/DTA0006/\">Facilitate</a>\n",
       "<a class=\"dropdown-item\" href=\"/tactics/DTA0007/\">Legitimize</a>\n",
       "<a class=\"dropdown-item\" href=\"/tactics/DTA0008/\">Test</a>\n",
       "</div>\n",
       "</li>\n",
       "<li class=\"nav-item\"><a class=\"nav-link\" href=\"/techniques/\"><b>Techniques</b></a></li>\n",
       "<li class=\"nav-item dropdown\">\n",
       "<a aria-expanded=\"false\" aria-haspopup=\"true\" class=\"nav-link dropdown-toggle\" data-toggle=\"dropdown\" id=\"navbarDropdown\" role=\"button\">\n",
       "<b>ATT&amp;CK® Mapping</b>\n",
       "</a>\n",
       "<div aria-labelledby=\"navbarDropdown\" class=\"dropdown-menu bg-primary\">\n",
       "<a class=\"dropdown-item\" href=\"/attack_mapping/\">Overview</a>\n",
       "<a class=\"dropdown-item\" href=\"/attack_groups/\">ATT&amp;CK Groups</a>\n",
       "<hr class=\"my-3 bg-light\"/>\n",
       "<a class=\"dropdown-item\" href=\"/attack_mapping/TA0043/\">Reconnaissance</a>\n",
       "<a class=\"dropdown-item\" href=\"/attack_mapping/TA0042/\">Resource Development</a>\n",
       "<a class=\"dropdown-item\" href=\"/attack_mapping/TA0001/\">Initial Access</a>\n",
       "<a class=\"dropdown-item\" href=\"/attack_mapping/TA0002/\">Execution</a>\n",
       "<a class=\"dropdown-item\" href=\"/attack_mapping/TA0003/\">Persistence</a>\n",
       "<a class=\"dropdown-item\" href=\"/attack_mapping/TA0004/\">Privilege Escalation</a>\n",
       "<a class=\"dropdown-item\" href=\"/attack_mapping/TA0005/\">Defense Evasion</a>\n",
       "<a class=\"dropdown-item\" href=\"/attack_mapping/TA0006/\">Credential Access</a>\n",
       "<a class=\"dropdown-item\" href=\"/attack_mapping/TA0007/\">Discovery</a>\n",
       "<a class=\"dropdown-item\" href=\"/attack_mapping/TA0008/\">Lateral Movement</a>\n",
       "<a class=\"dropdown-item\" href=\"/attack_mapping/TA0009/\">Collection</a>\n",
       "<a class=\"dropdown-item\" href=\"/attack_mapping/TA0010/\">Exfiltration</a>\n",
       "<a class=\"dropdown-item\" href=\"/attack_mapping/TA0011/\">Command and Control</a>\n",
       "<a class=\"dropdown-item\" href=\"/attack_mapping/TA0040/\">Impact</a>\n",
       "<hr class=\"my-3 bg-light\"/>\n",
       "<a class=\"dropdown-item\" href=\"/attack_mapping/mapping_all.html\">Complete Mapping</a>\n",
       "</div>\n",
       "</li>\n",
       "<li class=\"nav-item dropdown\">\n",
       "<a aria-expanded=\"false\" aria-haspopup=\"true\" class=\"nav-link dropdown-toggle\" data-toggle=\"dropdown\" href=\"/resources/\" id=\"navbarDropdown\" role=\"button\">\n",
       "<b>Resources</b>\n",
       "</a>\n",
       "<div aria-labelledby=\"navbarDropdown\" class=\"dropdown-menu bg-primary\">\n",
       "<a class=\"dropdown-item\" href=\"/resources/getting-started\">Getting Started</a>\n",
       "<a class=\"dropdown-item\" href=\"/resources/faq\">FAQ</a>\n",
       "<a class=\"dropdown-item\" href=\"/resources/related-projects\">Related Projects</a>\n",
       "<a class=\"dropdown-item\" href=\"/resources/contribute\">Contribute</a>\n",
       "<a class=\"dropdown-item\" href=\"/resources/updates\">Updates</a>\n",
       "</div>\n",
       "</li>\n",
       "<li class=\"nav-item\"><a class=\"nav-link\" href=\"https://medium.com/mitre-shield\" target=\"_blank\"><b>Blog</b><img class=\"external-icon\" src=\"/assets/img/external-site.svg\"/></a></li>\n",
       "<li class=\"nav-item\">\n",
       "<form class=\"form-inline my-2 my-lg-0\" id=\"site-search\">\n",
       "<input class=\"form-control mr-sm-2\" id=\"search-term\" placeholder=\"Search\" type=\"text\"/>\n",
       "<button class=\"btn btn-secondary my-2 my-sm-0\" data-target=\"#search-modal\" data-toggle=\"modal\" type=\"submit\">Search</button>\n",
       "</form>\n",
       "</li>\n",
       "</ul>\n",
       "</div>\n",
       "</nav>\n",
       "<!-- End Nav -->\n",
       "<!-- Start Banner -->\n",
       "<div class=\"alert alert-success text-center\">\n",
       "<strong>We've added <a href=\"https://medium.com/mitre-shield/introducing-mitre-shield-adversary-group-mappings-b1e095381dae\">Adversary Group Mappings</a>!</strong>\n",
       "</div>\n",
       "<!-- End Banner -->\n",
       "<!-- Start Side Nav -->\n",
       "<div class=\"wrapper\">\n",
       "<nav class=\"collapse overflow-auto disable-scrollbars bg-primary\" id=\"sidebar\">\n",
       "<div aria-orientation=\"vertical\" class=\"sidebar nav px-2\" id=\"v-tab\" role=\"tablist\">\n",
       "<span aria-selected=\"false\" class=\"heading text-white\" id=\"v-home-tab\">Active Defense Tactics</span><div class=\"sidenav\" id=\"DTA0001\">\n",
       "<div class=\"sidenav-head\">\n",
       "<a href=\"/tactics/DTA0001\"><span class=\"text-white\">Channel</span></a>\n",
       "<div aria-controls=\"DTA0001-body\" aria-expanded=\"false\" class=\"expand-button collapsed text-white navbar-light\" data-target=\"#DTA0001-body\" data-toggle=\"collapse\" id=\"DTA0001-header\">\n",
       "</div>\n",
       "</div>\n",
       "<div aria-labelledby=\"DTA0001-header\" class=\"sidenav-body collapse\" id=\"DTA0001-body\"><div class=\"sidenav\">\n",
       "<div class=\"sidenav-head\" id=\"DTA0001-DTE0001\">\n",
       "<a href=\"/techniques/DTE0001/\"><span class=\"text-white\">Admin Access</span></a>\n",
       "</div>\n",
       "</div><div class=\"sidenav\">\n",
       "<div class=\"sidenav-head\" id=\"DTA0001-DTE0003\">\n",
       "<a href=\"/techniques/DTE0003/\"><span class=\"text-white\">API Monitoring</span></a>\n",
       "</div>\n",
       "</div><div class=\"sidenav\">\n",
       "<div class=\"sidenav-head\" id=\"DTA0001-DTE0004\">\n",
       "<a href=\"/techniques/DTE0004/\"><span class=\"text-white\">Application Diversity</span></a>\n",
       "</div>\n",
       "</div><div class=\"sidenav\">\n",
       "<div class=\"sidenav-head\" id=\"DTA0001-DTE0010\">\n",
       "<a href=\"/techniques/DTE0010/\"><span class=\"text-white\">Decoy Account</span></a>\n",
       "</div>\n",
       "</div><div class=\"sidenav\">\n",
       "<div class=\"sidenav-head\" id=\"DTA0001-DTE0011\">\n",
       "<a href=\"/techniques/DTE0011/\"><span class=\"text-white\">Decoy Content </span></a>\n",
       "</div>\n",
       "</div><div class=\"sidenav\">\n",
       "<div class=\"sidenav-head\" id=\"DTA0001-DTE0012\">\n",
       "<a href=\"/techniques/DTE0012/\"><span class=\"text-white\">Decoy Credentials</span></a>\n",
       "</div>\n",
       "</div><div class=\"sidenav\">\n",
       "<div class=\"sidenav-head\" id=\"DTA0001-DTE0013\">\n",
       "<a href=\"/techniques/DTE0013/\"><span class=\"text-white\">Decoy Diversity</span></a>\n",
       "</div>\n",
       "</div><div class=\"sidenav\">\n",
       "<div class=\"sidenav-head\" id=\"DTA0001-DTE0014\">\n",
       "<a href=\"/techniques/DTE0014/\"><span class=\"text-white\">Decoy Network</span></a>\n",
       "</div>\n",
       "</div><div class=\"sidenav\">\n",
       "<div class=\"sidenav-head\" id=\"DTA0001-DTE0015\">\n",
       "<a href=\"/techniques/DTE0015/\"><span class=\"text-white\">Decoy Persona</span></a>\n",
       "</div>\n",
       "</div><div class=\"sidenav\">\n",
       "<div class=\"sidenav-head\" id=\"DTA0001-DTE0016\">\n",
       "<a href=\"/techniques/DTE0016/\"><span class=\"text-white\">Decoy Process</span></a>\n",
       "</div>\n",
       "</div><div class=\"sidenav\">\n",
       "<div class=\"sidenav-head\" id=\"DTA0001-DTE0017\">\n",
       "<a href=\"/techniques/DTE0017/\"><span class=\"text-white\">Decoy System</span></a>\n",
       "</div>\n",
       "</div><div class=\"sidenav\">\n",
       "<div class=\"sidenav-head\" id=\"DTA0001-DTE0018\">\n",
       "<a href=\"/techniques/DTE0018/\"><span class=\"text-white\">Detonate Malware</span></a>\n",
       "</div>\n",
       "</div><div class=\"sidenav\">\n",
       "<div class=\"sidenav-head\" id=\"DTA0001-DTE0023\">\n",
       "<a href=\"/techniques/DTE0023/\"><span class=\"text-white\">Migrate Attack Vector</span></a>\n",
       "</div>\n",
       "</div><div class=\"sidenav\">\n",
       "<div class=\"sidenav-head\" id=\"DTA0001-DTE0025\">\n",
       "<a href=\"/techniques/DTE0025/\"><span class=\"text-white\">Network Diversity</span></a>\n",
       "</div>\n",
       "</div><div class=\"sidenav\">\n",
       "<div class=\"sidenav-head\" id=\"DTA0001-DTE0026\">\n",
       "<a href=\"/techniques/DTE0026/\"><span class=\"text-white\">Network Manipulation</span></a>\n",
       "</div>\n",
       "</div><div class=\"sidenav\">\n",
       "<div class=\"sidenav-head\" id=\"DTA0001-DTE0029\">\n",
       "<a href=\"/techniques/DTE0029/\"><span class=\"text-white\">Peripheral Management</span></a>\n",
       "</div>\n",
       "</div><div class=\"sidenav\">\n",
       "<div class=\"sidenav-head\" id=\"DTA0001-DTE0030\">\n",
       "<a href=\"/techniques/DTE0030/\"><span class=\"text-white\">Pocket Litter</span></a>\n",
       "</div>\n",
       "</div><div class=\"sidenav\">\n",
       "<div class=\"sidenav-head\" id=\"DTA0001-DTE0032\">\n",
       "<a href=\"/techniques/DTE0032/\"><span class=\"text-white\">Security Controls</span></a>\n",
       "</div>\n",
       "</div><div class=\"sidenav\">\n",
       "<div class=\"sidenav-head\" id=\"DTA0001-DTE0036\">\n",
       "<a href=\"/techniques/DTE0036/\"><span class=\"text-white\">Software Manipulation</span></a>\n",
       "</div>\n",
       "</div></div>\n",
       "</div><div class=\"sidenav\" id=\"DTA0002\">\n",
       "<div class=\"sidenav-head\">\n",
       "<a href=\"/tactics/DTA0002\"><span class=\"text-white\">Collect</span></a>\n",
       "<div aria-controls=\"DTA0002-body\" aria-expanded=\"false\" class=\"expand-button collapsed text-white navbar-light\" data-target=\"#DTA0002-body\" data-toggle=\"collapse\" id=\"DTA0002-header\">\n",
       "</div>\n",
       "</div>\n",
       "<div aria-labelledby=\"DTA0002-header\" class=\"sidenav-body collapse\" id=\"DTA0002-body\"><div class=\"sidenav\">\n",
       "<div class=\"sidenav-head\" id=\"DTA0002-DTE0003\">\n",
       "<a href=\"/techniques/DTE0003/\"><span class=\"text-white\">API Monitoring</span></a>\n",
       "</div>\n",
       "</div><div class=\"sidenav\">\n",
       "<div class=\"sidenav-head\" id=\"DTA0002-DTE0004\">\n",
       "<a href=\"/techniques/DTE0004/\"><span class=\"text-white\">Application Diversity</span></a>\n",
       "</div>\n",
       "</div><div class=\"sidenav\">\n",
       "<div class=\"sidenav-head\" id=\"DTA0002-DTE0005\">\n",
       "<a href=\"/techniques/DTE0005/\"><span class=\"text-white\">Backup and Recovery</span></a>\n",
       "</div>\n",
       "</div><div class=\"sidenav\">\n",
       "<div class=\"sidenav-head\" id=\"DTA0002-DTE0010\">\n",
       "<a href=\"/techniques/DTE0010/\"><span class=\"text-white\">Decoy Account</span></a>\n",
       "</div>\n",
       "</div><div class=\"sidenav\">\n",
       "<div class=\"sidenav-head\" id=\"DTA0002-DTE0011\">\n",
       "<a href=\"/techniques/DTE0011/\"><span class=\"text-white\">Decoy Content </span></a>\n",
       "</div>\n",
       "</div><div class=\"sidenav\">\n",
       "<div class=\"sidenav-head\" id=\"DTA0002-DTE0012\">\n",
       "<a href=\"/techniques/DTE0012/\"><span class=\"text-white\">Decoy Credentials</span></a>\n",
       "</div>\n",
       "</div><div class=\"sidenav\">\n",
       "<div class=\"sidenav-head\" id=\"DTA0002-DTE0014\">\n",
       "<a href=\"/techniques/DTE0014/\"><span class=\"text-white\">Decoy Network</span></a>\n",
       "</div>\n",
       "</div><div class=\"sidenav\">\n",
       "<div class=\"sidenav-head\" id=\"DTA0002-DTE0017\">\n",
       "<a href=\"/techniques/DTE0017/\"><span class=\"text-white\">Decoy System</span></a>\n",
       "</div>\n",
       "</div><div class=\"sidenav\">\n",
       "<div class=\"sidenav-head\" id=\"DTA0002-DTE0018\">\n",
       "<a href=\"/techniques/DTE0018/\"><span class=\"text-white\">Detonate Malware</span></a>\n",
       "</div>\n",
       "</div><div class=\"sidenav\">\n",
       "<div class=\"sidenav-head\" id=\"DTA0002-DTE0019\">\n",
       "<a href=\"/techniques/DTE0019/\"><span class=\"text-white\">Email Manipulation</span></a>\n",
       "</div>\n",
       "</div><div class=\"sidenav\">\n",
       "<div class=\"sidenav-head\" id=\"DTA0002-DTE0021\">\n",
       "<a href=\"/techniques/DTE0021/\"><span class=\"text-white\">Hunting</span></a>\n",
       "</div>\n",
       "</div><div class=\"sidenav\">\n",
       "<div class=\"sidenav-head\" id=\"DTA0002-DTE0025\">\n",
       "<a href=\"/techniques/DTE0025/\"><span class=\"text-white\">Network Diversity</span></a>\n",
       "</div>\n",
       "</div><div class=\"sidenav\">\n",
       "<div class=\"sidenav-head\" id=\"DTA0002-DTE0027\">\n",
       "<a href=\"/techniques/DTE0027/\"><span class=\"text-white\">Network Monitoring</span></a>\n",
       "</div>\n",
       "</div><div class=\"sidenav\">\n",
       "<div class=\"sidenav-head\" id=\"DTA0002-DTE0028\">\n",
       "<a href=\"/techniques/DTE0028/\"><span class=\"text-white\">PCAP Collection</span></a>\n",
       "</div>\n",
       "</div><div class=\"sidenav\">\n",
       "<div class=\"sidenav-head\" id=\"DTA0002-DTE0029\">\n",
       "<a href=\"/techniques/DTE0029/\"><span class=\"text-white\">Peripheral Management</span></a>\n",
       "</div>\n",
       "</div><div class=\"sidenav\">\n",
       "<div class=\"sidenav-head\" id=\"DTA0002-DTE0031\">\n",
       "<a href=\"/techniques/DTE0031/\"><span class=\"text-white\">Protocol Decoder</span></a>\n",
       "</div>\n",
       "</div><div class=\"sidenav\">\n",
       "<div class=\"sidenav-head\" id=\"DTA0002-DTE0032\">\n",
       "<a href=\"/techniques/DTE0032/\"><span class=\"text-white\">Security Controls</span></a>\n",
       "</div>\n",
       "</div><div class=\"sidenav\">\n",
       "<div class=\"sidenav-head\" id=\"DTA0002-DTE0034\">\n",
       "<a href=\"/techniques/DTE0034/\"><span class=\"text-white\">System Activity Monitoring</span></a>\n",
       "</div>\n",
       "</div><div class=\"sidenav\">\n",
       "<div class=\"sidenav-head\" id=\"DTA0002-DTE0036\">\n",
       "<a href=\"/techniques/DTE0036/\"><span class=\"text-white\">Software Manipulation</span></a>\n",
       "</div>\n",
       "</div></div>\n",
       "</div><div class=\"sidenav\" id=\"DTA0003\">\n",
       "<div class=\"sidenav-head\">\n",
       "<a href=\"/tactics/DTA0003\"><span class=\"text-white\">Contain</span></a>\n",
       "<div aria-controls=\"DTA0003-body\" aria-expanded=\"false\" class=\"expand-button collapsed text-white navbar-light\" data-target=\"#DTA0003-body\" data-toggle=\"collapse\" id=\"DTA0003-header\">\n",
       "</div>\n",
       "</div>\n",
       "<div aria-labelledby=\"DTA0003-header\" class=\"sidenav-body collapse\" id=\"DTA0003-body\"><div class=\"sidenav\">\n",
       "<div class=\"sidenav-head\" id=\"DTA0003-DTE0001\">\n",
       "<a href=\"/techniques/DTE0001/\"><span class=\"text-white\">Admin Access</span></a>\n",
       "</div>\n",
       "</div><div class=\"sidenav\">\n",
       "<div class=\"sidenav-head\" id=\"DTA0003-DTE0006\">\n",
       "<a href=\"/techniques/DTE0006/\"><span class=\"text-white\">Baseline</span></a>\n",
       "</div>\n",
       "</div><div class=\"sidenav\">\n",
       "<div class=\"sidenav-head\" id=\"DTA0003-DTE0010\">\n",
       "<a href=\"/techniques/DTE0010/\"><span class=\"text-white\">Decoy Account</span></a>\n",
       "</div>\n",
       "</div><div class=\"sidenav\">\n",
       "<div class=\"sidenav-head\" id=\"DTA0003-DTE0014\">\n",
       "<a href=\"/techniques/DTE0014/\"><span class=\"text-white\">Decoy Network</span></a>\n",
       "</div>\n",
       "</div><div class=\"sidenav\">\n",
       "<div class=\"sidenav-head\" id=\"DTA0003-DTE0018\">\n",
       "<a href=\"/techniques/DTE0018/\"><span class=\"text-white\">Detonate Malware</span></a>\n",
       "</div>\n",
       "</div><div class=\"sidenav\">\n",
       "<div class=\"sidenav-head\" id=\"DTA0003-DTE0020\">\n",
       "<a href=\"/techniques/DTE0020/\"><span class=\"text-white\">Hardware Manipulation</span></a>\n",
       "</div>\n",
       "</div><div class=\"sidenav\">\n",
       "<div class=\"sidenav-head\" id=\"DTA0003-DTE0022\">\n",
       "<a href=\"/techniques/DTE0022/\"><span class=\"text-white\">Isolation</span></a>\n",
       "</div>\n",
       "</div><div class=\"sidenav\">\n",
       "<div class=\"sidenav-head\" id=\"DTA0003-DTE0023\">\n",
       "<a href=\"/techniques/DTE0023/\"><span class=\"text-white\">Migrate Attack Vector</span></a>\n",
       "</div>\n",
       "</div><div class=\"sidenav\">\n",
       "<div class=\"sidenav-head\" id=\"DTA0003-DTE0026\">\n",
       "<a href=\"/techniques/DTE0026/\"><span class=\"text-white\">Network Manipulation</span></a>\n",
       "</div>\n",
       "</div><div class=\"sidenav\">\n",
       "<div class=\"sidenav-head\" id=\"DTA0003-DTE0032\">\n",
       "<a href=\"/techniques/DTE0032/\"><span class=\"text-white\">Security Controls</span></a>\n",
       "</div>\n",
       "</div><div class=\"sidenav\">\n",
       "<div class=\"sidenav-head\" id=\"DTA0003-DTE0036\">\n",
       "<a href=\"/techniques/DTE0036/\"><span class=\"text-white\">Software Manipulation</span></a>\n",
       "</div>\n",
       "</div></div>\n",
       "</div><div class=\"sidenav\" id=\"DTA0004\">\n",
       "<div class=\"sidenav-head\">\n",
       "<a href=\"/tactics/DTA0004\"><span class=\"text-white\">Detect</span></a>\n",
       "<div aria-controls=\"DTA0004-body\" aria-expanded=\"false\" class=\"expand-button collapsed text-white navbar-light\" data-target=\"#DTA0004-body\" data-toggle=\"collapse\" id=\"DTA0004-header\">\n",
       "</div>\n",
       "</div>\n",
       "<div aria-labelledby=\"DTA0004-header\" class=\"sidenav-body collapse\" id=\"DTA0004-body\"><div class=\"sidenav\">\n",
       "<div class=\"sidenav-head\" id=\"DTA0004-DTE0003\">\n",
       "<a href=\"/techniques/DTE0003/\"><span class=\"text-white\">API Monitoring</span></a>\n",
       "</div>\n",
       "</div><div class=\"sidenav\">\n",
       "<div class=\"sidenav-head\" id=\"DTA0004-DTE0004\">\n",
       "<a href=\"/techniques/DTE0004/\"><span class=\"text-white\">Application Diversity</span></a>\n",
       "</div>\n",
       "</div><div class=\"sidenav\">\n",
       "<div class=\"sidenav-head\" id=\"DTA0004-DTE0006\">\n",
       "<a href=\"/techniques/DTE0006/\"><span class=\"text-white\">Baseline</span></a>\n",
       "</div>\n",
       "</div><div class=\"sidenav\">\n",
       "<div class=\"sidenav-head\" id=\"DTA0004-DTE0007\">\n",
       "<a href=\"/techniques/DTE0007/\"><span class=\"text-white\">Behavioral Analytics</span></a>\n",
       "</div>\n",
       "</div><div class=\"sidenav\">\n",
       "<div class=\"sidenav-head\" id=\"DTA0004-DTE0010\">\n",
       "<a href=\"/techniques/DTE0010/\"><span class=\"text-white\">Decoy Account</span></a>\n",
       "</div>\n",
       "</div><div class=\"sidenav\">\n",
       "<div class=\"sidenav-head\" id=\"DTA0004-DTE0011\">\n",
       "<a href=\"/techniques/DTE0011/\"><span class=\"text-white\">Decoy Content </span></a>\n",
       "</div>\n",
       "</div><div class=\"sidenav\">\n",
       "<div class=\"sidenav-head\" id=\"DTA0004-DTE0012\">\n",
       "<a href=\"/techniques/DTE0012/\"><span class=\"text-white\">Decoy Credentials</span></a>\n",
       "</div>\n",
       "</div><div class=\"sidenav\">\n",
       "<div class=\"sidenav-head\" id=\"DTA0004-DTE0013\">\n",
       "<a href=\"/techniques/DTE0013/\"><span class=\"text-white\">Decoy Diversity</span></a>\n",
       "</div>\n",
       "</div><div class=\"sidenav\">\n",
       "<div class=\"sidenav-head\" id=\"DTA0004-DTE0014\">\n",
       "<a href=\"/techniques/DTE0014/\"><span class=\"text-white\">Decoy Network</span></a>\n",
       "</div>\n",
       "</div><div class=\"sidenav\">\n",
       "<div class=\"sidenav-head\" id=\"DTA0004-DTE0015\">\n",
       "<a href=\"/techniques/DTE0015/\"><span class=\"text-white\">Decoy Persona</span></a>\n",
       "</div>\n",
       "</div><div class=\"sidenav\">\n",
       "<div class=\"sidenav-head\" id=\"DTA0004-DTE0017\">\n",
       "<a href=\"/techniques/DTE0017/\"><span class=\"text-white\">Decoy System</span></a>\n",
       "</div>\n",
       "</div><div class=\"sidenav\">\n",
       "<div class=\"sidenav-head\" id=\"DTA0004-DTE0019\">\n",
       "<a href=\"/techniques/DTE0019/\"><span class=\"text-white\">Email Manipulation</span></a>\n",
       "</div>\n",
       "</div><div class=\"sidenav\">\n",
       "<div class=\"sidenav-head\" id=\"DTA0004-DTE0021\">\n",
       "<a href=\"/techniques/DTE0021/\"><span class=\"text-white\">Hunting</span></a>\n",
       "</div>\n",
       "</div><div class=\"sidenav\">\n",
       "<div class=\"sidenav-head\" id=\"DTA0004-DTE0022\">\n",
       "<a href=\"/techniques/DTE0022/\"><span class=\"text-white\">Isolation</span></a>\n",
       "</div>\n",
       "</div><div class=\"sidenav\">\n",
       "<div class=\"sidenav-head\" id=\"DTA0004-DTE0026\">\n",
       "<a href=\"/techniques/DTE0026/\"><span class=\"text-white\">Network Manipulation</span></a>\n",
       "</div>\n",
       "</div><div class=\"sidenav\">\n",
       "<div class=\"sidenav-head\" id=\"DTA0004-DTE0027\">\n",
       "<a href=\"/techniques/DTE0027/\"><span class=\"text-white\">Network Monitoring</span></a>\n",
       "</div>\n",
       "</div><div class=\"sidenav\">\n",
       "<div class=\"sidenav-head\" id=\"DTA0004-DTE0028\">\n",
       "<a href=\"/techniques/DTE0028/\"><span class=\"text-white\">PCAP Collection</span></a>\n",
       "</div>\n",
       "</div><div class=\"sidenav\">\n",
       "<div class=\"sidenav-head\" id=\"DTA0004-DTE0030\">\n",
       "<a href=\"/techniques/DTE0030/\"><span class=\"text-white\">Pocket Litter</span></a>\n",
       "</div>\n",
       "</div><div class=\"sidenav\">\n",
       "<div class=\"sidenav-head\" id=\"DTA0004-DTE0031\">\n",
       "<a href=\"/techniques/DTE0031/\"><span class=\"text-white\">Protocol Decoder</span></a>\n",
       "</div>\n",
       "</div><div class=\"sidenav\">\n",
       "<div class=\"sidenav-head\" id=\"DTA0004-DTE0033\">\n",
       "<a href=\"/techniques/DTE0033/\"><span class=\"text-white\">Standard Operating Procedure</span></a>\n",
       "</div>\n",
       "</div><div class=\"sidenav\">\n",
       "<div class=\"sidenav-head\" id=\"DTA0004-DTE0034\">\n",
       "<a href=\"/techniques/DTE0034/\"><span class=\"text-white\">System Activity Monitoring</span></a>\n",
       "</div>\n",
       "</div><div class=\"sidenav\">\n",
       "<div class=\"sidenav-head\" id=\"DTA0004-DTE0035\">\n",
       "<a href=\"/techniques/DTE0035/\"><span class=\"text-white\">User Training</span></a>\n",
       "</div>\n",
       "</div><div class=\"sidenav\">\n",
       "<div class=\"sidenav-head\" id=\"DTA0004-DTE0036\">\n",
       "<a href=\"/techniques/DTE0036/\"><span class=\"text-white\">Software Manipulation</span></a>\n",
       "</div>\n",
       "</div></div>\n",
       "</div><div class=\"sidenav\" id=\"DTA0005\">\n",
       "<div class=\"sidenav-head\">\n",
       "<a href=\"/tactics/DTA0005\"><span class=\"text-white\">Disrupt</span></a>\n",
       "<div aria-controls=\"DTA0005-body\" aria-expanded=\"false\" class=\"expand-button collapsed text-white navbar-light\" data-target=\"#DTA0005-body\" data-toggle=\"collapse\" id=\"DTA0005-header\">\n",
       "</div>\n",
       "</div>\n",
       "<div aria-labelledby=\"DTA0005-header\" class=\"sidenav-body collapse\" id=\"DTA0005-body\"><div class=\"sidenav\">\n",
       "<div class=\"sidenav-head\" id=\"DTA0005-DTE0001\">\n",
       "<a href=\"/techniques/DTE0001/\"><span class=\"text-white\">Admin Access</span></a>\n",
       "</div>\n",
       "</div><div class=\"sidenav\">\n",
       "<div class=\"sidenav-head\" id=\"DTA0005-DTE0004\">\n",
       "<a href=\"/techniques/DTE0004/\"><span class=\"text-white\">Application Diversity</span></a>\n",
       "</div>\n",
       "</div><div class=\"sidenav\">\n",
       "<div class=\"sidenav-head\" id=\"DTA0005-DTE0005\">\n",
       "<a href=\"/techniques/DTE0005/\"><span class=\"text-white\">Backup and Recovery</span></a>\n",
       "</div>\n",
       "</div><div class=\"sidenav\">\n",
       "<div class=\"sidenav-head\" id=\"DTA0005-DTE0006\">\n",
       "<a href=\"/techniques/DTE0006/\"><span class=\"text-white\">Baseline</span></a>\n",
       "</div>\n",
       "</div><div class=\"sidenav\">\n",
       "<div class=\"sidenav-head\" id=\"DTA0005-DTE0007\">\n",
       "<a href=\"/techniques/DTE0007/\"><span class=\"text-white\">Behavioral Analytics</span></a>\n",
       "</div>\n",
       "</div><div class=\"sidenav\">\n",
       "<div class=\"sidenav-head\" id=\"DTA0005-DTE0011\">\n",
       "<a href=\"/techniques/DTE0011/\"><span class=\"text-white\">Decoy Content </span></a>\n",
       "</div>\n",
       "</div><div class=\"sidenav\">\n",
       "<div class=\"sidenav-head\" id=\"DTA0005-DTE0012\">\n",
       "<a href=\"/techniques/DTE0012/\"><span class=\"text-white\">Decoy Credentials</span></a>\n",
       "</div>\n",
       "</div><div class=\"sidenav\">\n",
       "<div class=\"sidenav-head\" id=\"DTA0005-DTE0014\">\n",
       "<a href=\"/techniques/DTE0014/\"><span class=\"text-white\">Decoy Network</span></a>\n",
       "</div>\n",
       "</div><div class=\"sidenav\">\n",
       "<div class=\"sidenav-head\" id=\"DTA0005-DTE0019\">\n",
       "<a href=\"/techniques/DTE0019/\"><span class=\"text-white\">Email Manipulation</span></a>\n",
       "</div>\n",
       "</div><div class=\"sidenav\">\n",
       "<div class=\"sidenav-head\" id=\"DTA0005-DTE0020\">\n",
       "<a href=\"/techniques/DTE0020/\"><span class=\"text-white\">Hardware Manipulation</span></a>\n",
       "</div>\n",
       "</div><div class=\"sidenav\">\n",
       "<div class=\"sidenav-head\" id=\"DTA0005-DTE0022\">\n",
       "<a href=\"/techniques/DTE0022/\"><span class=\"text-white\">Isolation</span></a>\n",
       "</div>\n",
       "</div><div class=\"sidenav\">\n",
       "<div class=\"sidenav-head\" id=\"DTA0005-DTE0026\">\n",
       "<a href=\"/techniques/DTE0026/\"><span class=\"text-white\">Network Manipulation</span></a>\n",
       "</div>\n",
       "</div><div class=\"sidenav\">\n",
       "<div class=\"sidenav-head\" id=\"DTA0005-DTE0032\">\n",
       "<a href=\"/techniques/DTE0032/\"><span class=\"text-white\">Security Controls</span></a>\n",
       "</div>\n",
       "</div><div class=\"sidenav\">\n",
       "<div class=\"sidenav-head\" id=\"DTA0005-DTE0033\">\n",
       "<a href=\"/techniques/DTE0033/\"><span class=\"text-white\">Standard Operating Procedure</span></a>\n",
       "</div>\n",
       "</div><div class=\"sidenav\">\n",
       "<div class=\"sidenav-head\" id=\"DTA0005-DTE0035\">\n",
       "<a href=\"/techniques/DTE0035/\"><span class=\"text-white\">User Training</span></a>\n",
       "</div>\n",
       "</div><div class=\"sidenav\">\n",
       "<div class=\"sidenav-head\" id=\"DTA0005-DTE0036\">\n",
       "<a href=\"/techniques/DTE0036/\"><span class=\"text-white\">Software Manipulation</span></a>\n",
       "</div>\n",
       "</div></div>\n",
       "</div><div class=\"sidenav\" id=\"DTA0006\">\n",
       "<div class=\"sidenav-head\">\n",
       "<a href=\"/tactics/DTA0006\"><span class=\"text-white\">Facilitate</span></a>\n",
       "<div aria-controls=\"DTA0006-body\" aria-expanded=\"false\" class=\"expand-button collapsed text-white navbar-light\" data-target=\"#DTA0006-body\" data-toggle=\"collapse\" id=\"DTA0006-header\">\n",
       "</div>\n",
       "</div>\n",
       "<div aria-labelledby=\"DTA0006-header\" class=\"sidenav-body collapse\" id=\"DTA0006-body\"><div class=\"sidenav\">\n",
       "<div class=\"sidenav-head\" id=\"DTA0006-DTE0001\">\n",
       "<a href=\"/techniques/DTE0001/\"><span class=\"text-white\">Admin Access</span></a>\n",
       "</div>\n",
       "</div><div class=\"sidenav\">\n",
       "<div class=\"sidenav-head\" id=\"DTA0006-DTE0004\">\n",
       "<a href=\"/techniques/DTE0004/\"><span class=\"text-white\">Application Diversity</span></a>\n",
       "</div>\n",
       "</div><div class=\"sidenav\">\n",
       "<div class=\"sidenav-head\" id=\"DTA0006-DTE0007\">\n",
       "<a href=\"/techniques/DTE0007/\"><span class=\"text-white\">Behavioral Analytics</span></a>\n",
       "</div>\n",
       "</div><div class=\"sidenav\">\n",
       "<div class=\"sidenav-head\" id=\"DTA0006-DTE0008\">\n",
       "<a href=\"/techniques/DTE0008/\"><span class=\"text-white\">Burn-In</span></a>\n",
       "</div>\n",
       "</div><div class=\"sidenav\">\n",
       "<div class=\"sidenav-head\" id=\"DTA0006-DTE0010\">\n",
       "<a href=\"/techniques/DTE0010/\"><span class=\"text-white\">Decoy Account</span></a>\n",
       "</div>\n",
       "</div><div class=\"sidenav\">\n",
       "<div class=\"sidenav-head\" id=\"DTA0006-DTE0011\">\n",
       "<a href=\"/techniques/DTE0011/\"><span class=\"text-white\">Decoy Content </span></a>\n",
       "</div>\n",
       "</div><div class=\"sidenav\">\n",
       "<div class=\"sidenav-head\" id=\"DTA0006-DTE0012\">\n",
       "<a href=\"/techniques/DTE0012/\"><span class=\"text-white\">Decoy Credentials</span></a>\n",
       "</div>\n",
       "</div><div class=\"sidenav\">\n",
       "<div class=\"sidenav-head\" id=\"DTA0006-DTE0013\">\n",
       "<a href=\"/techniques/DTE0013/\"><span class=\"text-white\">Decoy Diversity</span></a>\n",
       "</div>\n",
       "</div><div class=\"sidenav\">\n",
       "<div class=\"sidenav-head\" id=\"DTA0006-DTE0015\">\n",
       "<a href=\"/techniques/DTE0015/\"><span class=\"text-white\">Decoy Persona</span></a>\n",
       "</div>\n",
       "</div><div class=\"sidenav\">\n",
       "<div class=\"sidenav-head\" id=\"DTA0006-DTE0017\">\n",
       "<a href=\"/techniques/DTE0017/\"><span class=\"text-white\">Decoy System</span></a>\n",
       "</div>\n",
       "</div><div class=\"sidenav\">\n",
       "<div class=\"sidenav-head\" id=\"DTA0006-DTE0025\">\n",
       "<a href=\"/techniques/DTE0025/\"><span class=\"text-white\">Network Diversity</span></a>\n",
       "</div>\n",
       "</div><div class=\"sidenav\">\n",
       "<div class=\"sidenav-head\" id=\"DTA0006-DTE0026\">\n",
       "<a href=\"/techniques/DTE0026/\"><span class=\"text-white\">Network Manipulation</span></a>\n",
       "</div>\n",
       "</div><div class=\"sidenav\">\n",
       "<div class=\"sidenav-head\" id=\"DTA0006-DTE0029\">\n",
       "<a href=\"/techniques/DTE0029/\"><span class=\"text-white\">Peripheral Management</span></a>\n",
       "</div>\n",
       "</div><div class=\"sidenav\">\n",
       "<div class=\"sidenav-head\" id=\"DTA0006-DTE0030\">\n",
       "<a href=\"/techniques/DTE0030/\"><span class=\"text-white\">Pocket Litter</span></a>\n",
       "</div>\n",
       "</div><div class=\"sidenav\">\n",
       "<div class=\"sidenav-head\" id=\"DTA0006-DTE0032\">\n",
       "<a href=\"/techniques/DTE0032/\"><span class=\"text-white\">Security Controls</span></a>\n",
       "</div>\n",
       "</div><div class=\"sidenav\">\n",
       "<div class=\"sidenav-head\" id=\"DTA0006-DTE0036\">\n",
       "<a href=\"/techniques/DTE0036/\"><span class=\"text-white\">Software Manipulation</span></a>\n",
       "</div>\n",
       "</div></div>\n",
       "</div><div class=\"sidenav\" id=\"DTA0007\">\n",
       "<div class=\"sidenav-head\">\n",
       "<a href=\"/tactics/DTA0007\"><span class=\"text-white\">Legitimize</span></a>\n",
       "<div aria-controls=\"DTA0007-body\" aria-expanded=\"false\" class=\"expand-button collapsed text-white navbar-light\" data-target=\"#DTA0007-body\" data-toggle=\"collapse\" id=\"DTA0007-header\">\n",
       "</div>\n",
       "</div>\n",
       "<div aria-labelledby=\"DTA0007-header\" class=\"sidenav-body collapse\" id=\"DTA0007-body\"><div class=\"sidenav\">\n",
       "<div class=\"sidenav-head\" id=\"DTA0007-DTE0004\">\n",
       "<a href=\"/techniques/DTE0004/\"><span class=\"text-white\">Application Diversity</span></a>\n",
       "</div>\n",
       "</div><div class=\"sidenav\">\n",
       "<div class=\"sidenav-head\" id=\"DTA0007-DTE0008\">\n",
       "<a href=\"/techniques/DTE0008/\"><span class=\"text-white\">Burn-In</span></a>\n",
       "</div>\n",
       "</div><div class=\"sidenav\">\n",
       "<div class=\"sidenav-head\" id=\"DTA0007-DTE0010\">\n",
       "<a href=\"/techniques/DTE0010/\"><span class=\"text-white\">Decoy Account</span></a>\n",
       "</div>\n",
       "</div><div class=\"sidenav\">\n",
       "<div class=\"sidenav-head\" id=\"DTA0007-DTE0011\">\n",
       "<a href=\"/techniques/DTE0011/\"><span class=\"text-white\">Decoy Content </span></a>\n",
       "</div>\n",
       "</div><div class=\"sidenav\">\n",
       "<div class=\"sidenav-head\" id=\"DTA0007-DTE0012\">\n",
       "<a href=\"/techniques/DTE0012/\"><span class=\"text-white\">Decoy Credentials</span></a>\n",
       "</div>\n",
       "</div><div class=\"sidenav\">\n",
       "<div class=\"sidenav-head\" id=\"DTA0007-DTE0013\">\n",
       "<a href=\"/techniques/DTE0013/\"><span class=\"text-white\">Decoy Diversity</span></a>\n",
       "</div>\n",
       "</div><div class=\"sidenav\">\n",
       "<div class=\"sidenav-head\" id=\"DTA0007-DTE0014\">\n",
       "<a href=\"/techniques/DTE0014/\"><span class=\"text-white\">Decoy Network</span></a>\n",
       "</div>\n",
       "</div><div class=\"sidenav\">\n",
       "<div class=\"sidenav-head\" id=\"DTA0007-DTE0015\">\n",
       "<a href=\"/techniques/DTE0015/\"><span class=\"text-white\">Decoy Persona</span></a>\n",
       "</div>\n",
       "</div><div class=\"sidenav\">\n",
       "<div class=\"sidenav-head\" id=\"DTA0007-DTE0016\">\n",
       "<a href=\"/techniques/DTE0016/\"><span class=\"text-white\">Decoy Process</span></a>\n",
       "</div>\n",
       "</div><div class=\"sidenav\">\n",
       "<div class=\"sidenav-head\" id=\"DTA0007-DTE0017\">\n",
       "<a href=\"/techniques/DTE0017/\"><span class=\"text-white\">Decoy System</span></a>\n",
       "</div>\n",
       "</div><div class=\"sidenav\">\n",
       "<div class=\"sidenav-head\" id=\"DTA0007-DTE0025\">\n",
       "<a href=\"/techniques/DTE0025/\"><span class=\"text-white\">Network Diversity</span></a>\n",
       "</div>\n",
       "</div><div class=\"sidenav\">\n",
       "<div class=\"sidenav-head\" id=\"DTA0007-DTE0030\">\n",
       "<a href=\"/techniques/DTE0030/\"><span class=\"text-white\">Pocket Litter</span></a>\n",
       "</div>\n",
       "</div></div>\n",
       "</div><div class=\"sidenav\" id=\"DTA0008\">\n",
       "<div class=\"sidenav-head\">\n",
       "<a href=\"/tactics/DTA0008\"><span class=\"text-white\">Test</span></a>\n",
       "<div aria-controls=\"DTA0008-body\" aria-expanded=\"false\" class=\"expand-button collapsed text-white navbar-light\" data-target=\"#DTA0008-body\" data-toggle=\"collapse\" id=\"DTA0008-header\">\n",
       "</div>\n",
       "</div>\n",
       "<div aria-labelledby=\"DTA0008-header\" class=\"sidenav-body collapse\" id=\"DTA0008-body\"><div class=\"sidenav\">\n",
       "<div class=\"sidenav-head\" id=\"DTA0008-DTE0001\">\n",
       "<a href=\"/techniques/DTE0001/\"><span class=\"text-white\">Admin Access</span></a>\n",
       "</div>\n",
       "</div><div class=\"sidenav\">\n",
       "<div class=\"sidenav-head\" id=\"DTA0008-DTE0003\">\n",
       "<a href=\"/techniques/DTE0003/\"><span class=\"text-white\">API Monitoring</span></a>\n",
       "</div>\n",
       "</div><div class=\"sidenav\">\n",
       "<div class=\"sidenav-head\" id=\"DTA0008-DTE0004\">\n",
       "<a href=\"/techniques/DTE0004/\"><span class=\"text-white\">Application Diversity</span></a>\n",
       "</div>\n",
       "</div><div class=\"sidenav\">\n",
       "<div class=\"sidenav-head\" id=\"DTA0008-DTE0005\">\n",
       "<a href=\"/techniques/DTE0005/\"><span class=\"text-white\">Backup and Recovery</span></a>\n",
       "</div>\n",
       "</div><div class=\"sidenav\">\n",
       "<div class=\"sidenav-head\" id=\"DTA0008-DTE0010\">\n",
       "<a href=\"/techniques/DTE0010/\"><span class=\"text-white\">Decoy Account</span></a>\n",
       "</div>\n",
       "</div><div class=\"sidenav\">\n",
       "<div class=\"sidenav-head\" id=\"DTA0008-DTE0011\">\n",
       "<a href=\"/techniques/DTE0011/\"><span class=\"text-white\">Decoy Content </span></a>\n",
       "</div>\n",
       "</div><div class=\"sidenav\">\n",
       "<div class=\"sidenav-head\" id=\"DTA0008-DTE0012\">\n",
       "<a href=\"/techniques/DTE0012/\"><span class=\"text-white\">Decoy Credentials</span></a>\n",
       "</div>\n",
       "</div><div class=\"sidenav\">\n",
       "<div class=\"sidenav-head\" id=\"DTA0008-DTE0013\">\n",
       "<a href=\"/techniques/DTE0013/\"><span class=\"text-white\">Decoy Diversity</span></a>\n",
       "</div>\n",
       "</div><div class=\"sidenav\">\n",
       "<div class=\"sidenav-head\" id=\"DTA0008-DTE0014\">\n",
       "<a href=\"/techniques/DTE0014/\"><span class=\"text-white\">Decoy Network</span></a>\n",
       "</div>\n",
       "</div><div class=\"sidenav\">\n",
       "<div class=\"sidenav-head\" id=\"DTA0008-DTE0015\">\n",
       "<a href=\"/techniques/DTE0015/\"><span class=\"text-white\">Decoy Persona</span></a>\n",
       "</div>\n",
       "</div><div class=\"sidenav\">\n",
       "<div class=\"sidenav-head\" id=\"DTA0008-DTE0017\">\n",
       "<a href=\"/techniques/DTE0017/\"><span class=\"text-white\">Decoy System</span></a>\n",
       "</div>\n",
       "</div><div class=\"sidenav\">\n",
       "<div class=\"sidenav-head\" id=\"DTA0008-DTE0018\">\n",
       "<a href=\"/techniques/DTE0018/\"><span class=\"text-white\">Detonate Malware</span></a>\n",
       "</div>\n",
       "</div><div class=\"sidenav\">\n",
       "<div class=\"sidenav-head\" id=\"DTA0008-DTE0023\">\n",
       "<a href=\"/techniques/DTE0023/\"><span class=\"text-white\">Migrate Attack Vector</span></a>\n",
       "</div>\n",
       "</div><div class=\"sidenav\">\n",
       "<div class=\"sidenav-head\" id=\"DTA0008-DTE0025\">\n",
       "<a href=\"/techniques/DTE0025/\"><span class=\"text-white\">Network Diversity</span></a>\n",
       "</div>\n",
       "</div><div class=\"sidenav\">\n",
       "<div class=\"sidenav-head\" id=\"DTA0008-DTE0026\">\n",
       "<a href=\"/techniques/DTE0026/\"><span class=\"text-white\">Network Manipulation</span></a>\n",
       "</div>\n",
       "</div><div class=\"sidenav\">\n",
       "<div class=\"sidenav-head\" id=\"DTA0008-DTE0029\">\n",
       "<a href=\"/techniques/DTE0029/\"><span class=\"text-white\">Peripheral Management</span></a>\n",
       "</div>\n",
       "</div><div class=\"sidenav\">\n",
       "<div class=\"sidenav-head\" id=\"DTA0008-DTE0030\">\n",
       "<a href=\"/techniques/DTE0030/\"><span class=\"text-white\">Pocket Litter</span></a>\n",
       "</div>\n",
       "</div><div class=\"sidenav\">\n",
       "<div class=\"sidenav-head\" id=\"DTA0008-DTE0032\">\n",
       "<a href=\"/techniques/DTE0032/\"><span class=\"text-white\">Security Controls</span></a>\n",
       "</div>\n",
       "</div><div class=\"sidenav\">\n",
       "<div class=\"sidenav-head\" id=\"DTA0008-DTE0036\">\n",
       "<a href=\"/techniques/DTE0036/\"><span class=\"text-white\">Software Manipulation</span></a>\n",
       "</div>\n",
       "</div></div>\n",
       "</div></div>\n",
       "</nav>\n",
       "</div>\n",
       "<!-- End Side Nav -->\n",
       "<!-- Start Breadcrumb -->\n",
       "<ol class=\"breadcrumb\">\n",
       "<li class=\"breadcrumb-item\"><a href=\"/\">Home</a></li><liclass> &gt; <a href=\"/attack_mapping/\">ATT&amp;CK Mapping Overview</a></liclass></ol>\n",
       "<!-- End Breadcrumb -->\n",
       "<!-- Start Main Content Div -->\n",
       "<div class=\"container-fluid\">\n",
       "<!-- STARTSEARCH -->\n",
       "<!-- Start Content -->\n",
       "<h1>ATT&amp;CK Mapping Overview</h1>\n",
       "<div class=\"row\">\n",
       "<div class=\"col-xs-12 col-sm-6 col-md-8\">\n",
       "<p>\n",
       "        As defenders, we see value in mapping active defense techniques to ATT&amp;CK. In this section of the site, each tactic in the ATT&amp;CK framework is shown individually.  Clicking on a specific tactic in the ATT&amp;CK Mapping menu will show a detail page with the following information:\n",
       "        </p><ul>\n",
       "<li>ATT&amp;CK ID &amp; Name – The ATT&amp;CK technique ID and Name.</li>\n",
       "<li>Opportunity Space – High-level active defense possibilities introduced when attackers employ their techniques.</li>\n",
       "<li>Active Defense Technique – The specific technique being applied.</li>\n",
       "<li>Use Case – A high-level description of how a defender could do something to take advantage of the opportunity that the attackers action presents.</li>\n",
       "</ul>\n",
       "        Note: Depending on your needs, it is possible to apply multiple active defense techniques; therefore, multiple lines may be visible for each ATT&amp;CK ID. Below you can find our ATT&amp;CK mapping broken down by ATT&amp;CK tactic. Alternatively, the complete mapping on a single page can be <a href=\"/attack_mapping/mapping_all\">found here</a>.\n",
       "    \n",
       "  </div>\n",
       "</div>\n",
       "<h3>ATT&amp;CK Mapping by Tactic\n",
       "</h3><table class=\"table table-bordered table-hover\">\n",
       "<thead>\n",
       "<th>ATT&amp;CK Tactic</th>\n",
       "<th>Description</th>\n",
       "</thead>\n",
       "<tbody>\n",
       "<tr>\n",
       "<td><a href=\"/attack_mapping/TA0043\">TA0043 - Reconnaissance</a></td>\n",
       "<td> The adversary is trying to gather information they can use to plan future operations.</td>\n",
       "</tr>\n",
       "<tr>\n",
       "<td><a href=\"/attack_mapping/TA0042\">TA0042 - Resource Development</a></td>\n",
       "<td> The adversary is trying to establish resources they can use to support operations.</td>\n",
       "</tr>\n",
       "<tr>\n",
       "<td><a href=\"/attack_mapping/TA0001\">TA0001 - Initial Access</a></td>\n",
       "<td>The adversary is trying to get into your network.</td>\n",
       "</tr>\n",
       "<tr>\n",
       "<td><a href=\"/attack_mapping/TA0002\">TA0002 - Execution</a></td>\n",
       "<td>The adversary is trying to run malicious code.</td>\n",
       "</tr>\n",
       "<tr>\n",
       "<td><a href=\"/attack_mapping/TA0003\">TA0003 - Persistence</a></td>\n",
       "<td>The adversary is trying to maintain their foothold.</td>\n",
       "</tr>\n",
       "<tr>\n",
       "<td><a href=\"/attack_mapping/TA0004\">TA0004 - Privilege Escalation</a></td>\n",
       "<td>The adversary is trying to gain higher-level permissions.</td>\n",
       "</tr>\n",
       "<tr>\n",
       "<td><a href=\"/attack_mapping/TA0005\">TA0005 - Defense Evasion</a></td>\n",
       "<td>The adversary is trying to avoid being detected.</td>\n",
       "</tr>\n",
       "<tr>\n",
       "<td><a href=\"/attack_mapping/TA0006\">TA0006 - Credential Access</a></td>\n",
       "<td>The adversary is trying to steal account names and passwords.</td>\n",
       "</tr>\n",
       "<tr>\n",
       "<td><a href=\"/attack_mapping/TA0007\">TA0007 - Discovery</a></td>\n",
       "<td>The adversary is trying to figure out your environment.</td>\n",
       "</tr>\n",
       "<tr>\n",
       "<td><a href=\"/attack_mapping/TA0008\">TA0008 - Lateral Movement</a></td>\n",
       "<td>The adversary is trying to move through your environment.</td>\n",
       "</tr>\n",
       "<tr>\n",
       "<td><a href=\"/attack_mapping/TA0009\">TA0009 - Collection</a></td>\n",
       "<td>The adversary is trying to gather data of interest to their goal.</td>\n",
       "</tr>\n",
       "<tr>\n",
       "<td><a href=\"/attack_mapping/TA0010\">TA0010 - Exfiltration</a></td>\n",
       "<td>The adversary is trying to steal data.</td>\n",
       "</tr>\n",
       "<tr>\n",
       "<td><a href=\"/attack_mapping/TA0011\">TA0011 - Command and Control</a></td>\n",
       "<td>The adversary is trying to communicate with compromised systems to control them.</td>\n",
       "</tr>\n",
       "<tr>\n",
       "<td><a href=\"/attack_mapping/TA0040\">TA0040 - Impact</a></td>\n",
       "<td>The adversary is trying to manipulate, interrupt, or destroy your systems and data.</td>\n",
       "</tr>\n",
       "</tbody>\n",
       "</table>\n",
       "<!-- End Content -->\n",
       "<!-- ENDSEARCH -->\n",
       "</div>\n",
       "<!-- End Main Content Div -->\n",
       "<!-- Start Scripts -->\n",
       "<script src=\"/assets/js/jquery-3.2.1.min.js\"></script>\n",
       "<script src=\"/assets/js/popper.min.js\"></script>\n",
       "<script src=\"/assets/js/bootstrap.min.js\"></script>\n",
       "<script src=\"/assets/js/bootstrap.bundle.min.js\"></script>\n",
       "<script src=\"/assets/js/lunr.js\"></script>\n",
       "<script src=\"/assets/js/site.js\"></script>\n",
       "<script src=\"/assets/js/search.js\"></script>\n",
       "<!-- End Scripts -->\n",
       "<!-- Start Search Modal -->\n",
       "<div aria-hidden=\"true\" aria-labelledby=\"searchModalLabel\" class=\"modal fade\" id=\"search-modal\" role=\"dialog\" tabindex=\"-1\">\n",
       "<div class=\"modal-dialog modal-xl\" role=\"document\">\n",
       "<div class=\"modal-content\">\n",
       "<div class=\"modal-header\">\n",
       "<h5 class=\"modal-title\" id=\"serchModalLabel\">Search Results</h5>\n",
       "<button aria-label=\"Close\" class=\"close\" data-dismiss=\"modal\" type=\"button\">\n",
       "<span aria-hidden=\"true\">×</span>\n",
       "</button>\n",
       "</div>\n",
       "<div class=\"modal-body\">\n",
       "<table class=\"table table-bordered table-hover\">\n",
       "<thead>\n",
       "<tr>\n",
       "<th>Link</th>\n",
       "<th>Preview</th>\n",
       "</tr>\n",
       "</thead>\n",
       "<tbody id=\"search-results\"></tbody>\n",
       "</table>\n",
       "</div>\n",
       "<div class=\"modal-footer\">\n",
       "<button class=\"btn btn-secondary\" data-dismiss=\"modal\" type=\"button\">Close</button>\n",
       "</div>\n",
       "</div>\n",
       "</div>\n",
       "</div>\n",
       "<!-- End Search Modal -->\n",
       "</div>\n",
       "<!-- End Content Container -->\n",
       "<!-- Start Footer -->\n",
       "<footer class=\"footer p-3 bg-primary footer-expand-lg\">\n",
       "<div class=\"container-fluid\">\n",
       "<div class=\"row\">\n",
       "<div class=\"col-4 col-sm-4 col-md-2\">\n",
       "<div class=\"footer-center-responsive my-auto\">\n",
       "<a aria-label=\"MITRE\" href=\"https://www.mitre.org\" rel=\"noopener\" target=\"_blank\">\n",
       "<img class=\"mitre-logo-wtrans\" src=\"/assets/img/mitrelogowhiteontrans.gif\"/>\n",
       "</a>\n",
       "</div>\n",
       "</div>\n",
       "<div class=\"col-4 col-sm-4 footer-responsive-break\"></div>\n",
       "<div class=\"col-8 col-sm-8 text-center center\">\n",
       "<p>\n",
       "<strong>\n",
       "                                Copyright © 2020, The MITRE Corporation. MITRE ATT&amp;CK and ATT&amp;CK are registered trademarks of The MITRE Corporation.\n",
       "                            </strong>\n",
       "</p>\n",
       "<div class=\"row\">\n",
       "<div class=\"col text-right\">\n",
       "<strong>\n",
       "<a class=\"footer-link\" href=\"/resources/privacy\">Privacy Policy</a>\n",
       "</strong>\n",
       "</div>\n",
       "<div class=\"col text-left\">\n",
       "<strong>\n",
       "<a class=\"footer-link\" href=\"/resources/terms-of-use\">Terms of Use</a>\n",
       "</strong>\n",
       "</div>\n",
       "</div>\n",
       "</div>\n",
       "<div class=\"w-100 p-2 footer-responsive-break\"></div>\n",
       "<div class=\"col\">\n",
       "<div class=\"footer-float-right-responsive\">\n",
       "<div class=\"mb-1\">\n",
       "<a class=\"btn btn-primary w-100\" href=\"/resources/contact\">\n",
       "<b>Contact</b>\n",
       "</a>\n",
       "</div>\n",
       "<div class=\"mb-1\">\n",
       "<a class=\"btn btn-primary w-100\" href=\"https://twitter.com/mitrecorp\">\n",
       "<!-- <i class=\"fa fa-twitter\"></i> -->\n",
       "<img class=\"mr-1 twitter-icon\" src=\"/assets/img/twitter.png\"/>\n",
       "<b>@MITREcorp</b>\n",
       "</a>\n",
       "</div>\n",
       "</div>\n",
       "</div>\n",
       "</div>\n",
       "</div>\n",
       "</footer>\n",
       "<!-- End Footer -->\n",
       "</div>\n",
       "<!-- End Body Container -->\n",
       "</body>\n",
       "<!-- End Body -->\n",
       "</html>"
      ]
     },
     "execution_count": 6,
     "metadata": {},
     "output_type": "execute_result"
    }
   ],
   "source": [
    "soup"
   ]
  },
  {
   "cell_type": "code",
   "execution_count": 10,
   "metadata": {},
   "outputs": [],
   "source": [
    "con=soup.find_all(\"tr\")"
   ]
  },
  {
   "cell_type": "code",
   "execution_count": 11,
   "metadata": {},
   "outputs": [
    {
     "data": {
      "text/plain": [
       "[<tr>\n",
       " <td><a href=\"/attack_mapping/TA0043\">TA0043 - Reconnaissance</a></td>\n",
       " <td> The adversary is trying to gather information they can use to plan future operations.</td>\n",
       " </tr>,\n",
       " <tr>\n",
       " <td><a href=\"/attack_mapping/TA0042\">TA0042 - Resource Development</a></td>\n",
       " <td> The adversary is trying to establish resources they can use to support operations.</td>\n",
       " </tr>,\n",
       " <tr>\n",
       " <td><a href=\"/attack_mapping/TA0001\">TA0001 - Initial Access</a></td>\n",
       " <td>The adversary is trying to get into your network.</td>\n",
       " </tr>,\n",
       " <tr>\n",
       " <td><a href=\"/attack_mapping/TA0002\">TA0002 - Execution</a></td>\n",
       " <td>The adversary is trying to run malicious code.</td>\n",
       " </tr>,\n",
       " <tr>\n",
       " <td><a href=\"/attack_mapping/TA0003\">TA0003 - Persistence</a></td>\n",
       " <td>The adversary is trying to maintain their foothold.</td>\n",
       " </tr>,\n",
       " <tr>\n",
       " <td><a href=\"/attack_mapping/TA0004\">TA0004 - Privilege Escalation</a></td>\n",
       " <td>The adversary is trying to gain higher-level permissions.</td>\n",
       " </tr>,\n",
       " <tr>\n",
       " <td><a href=\"/attack_mapping/TA0005\">TA0005 - Defense Evasion</a></td>\n",
       " <td>The adversary is trying to avoid being detected.</td>\n",
       " </tr>,\n",
       " <tr>\n",
       " <td><a href=\"/attack_mapping/TA0006\">TA0006 - Credential Access</a></td>\n",
       " <td>The adversary is trying to steal account names and passwords.</td>\n",
       " </tr>,\n",
       " <tr>\n",
       " <td><a href=\"/attack_mapping/TA0007\">TA0007 - Discovery</a></td>\n",
       " <td>The adversary is trying to figure out your environment.</td>\n",
       " </tr>,\n",
       " <tr>\n",
       " <td><a href=\"/attack_mapping/TA0008\">TA0008 - Lateral Movement</a></td>\n",
       " <td>The adversary is trying to move through your environment.</td>\n",
       " </tr>,\n",
       " <tr>\n",
       " <td><a href=\"/attack_mapping/TA0009\">TA0009 - Collection</a></td>\n",
       " <td>The adversary is trying to gather data of interest to their goal.</td>\n",
       " </tr>,\n",
       " <tr>\n",
       " <td><a href=\"/attack_mapping/TA0010\">TA0010 - Exfiltration</a></td>\n",
       " <td>The adversary is trying to steal data.</td>\n",
       " </tr>,\n",
       " <tr>\n",
       " <td><a href=\"/attack_mapping/TA0011\">TA0011 - Command and Control</a></td>\n",
       " <td>The adversary is trying to communicate with compromised systems to control them.</td>\n",
       " </tr>,\n",
       " <tr>\n",
       " <td><a href=\"/attack_mapping/TA0040\">TA0040 - Impact</a></td>\n",
       " <td>The adversary is trying to manipulate, interrupt, or destroy your systems and data.</td>\n",
       " </tr>,\n",
       " <tr>\n",
       " <th>Link</th>\n",
       " <th>Preview</th>\n",
       " </tr>]"
      ]
     },
     "execution_count": 11,
     "metadata": {},
     "output_type": "execute_result"
    }
   ],
   "source": [
    "con"
   ]
  },
  {
   "cell_type": "code",
   "execution_count": 12,
   "metadata": {},
   "outputs": [
    {
     "data": {
      "text/plain": [
       "15"
      ]
     },
     "execution_count": 12,
     "metadata": {},
     "output_type": "execute_result"
    }
   ],
   "source": [
    "len(con)"
   ]
  },
  {
   "cell_type": "code",
   "execution_count": 16,
   "metadata": {},
   "outputs": [
    {
     "data": {
      "text/plain": [
       "<tr>\n",
       "<th>Link</th>\n",
       "<th>Preview</th>\n",
       "</tr>"
      ]
     },
     "execution_count": 16,
     "metadata": {},
     "output_type": "execute_result"
    }
   ],
   "source": [
    "con[14]"
   ]
  },
  {
   "cell_type": "code",
   "execution_count": 17,
   "metadata": {},
   "outputs": [
    {
     "data": {
      "text/plain": [
       "<tr>\n",
       "<td><a href=\"/attack_mapping/TA0040\">TA0040 - Impact</a></td>\n",
       "<td>The adversary is trying to manipulate, interrupt, or destroy your systems and data.</td>\n",
       "</tr>"
      ]
     },
     "execution_count": 17,
     "metadata": {},
     "output_type": "execute_result"
    }
   ],
   "source": [
    "con[13]"
   ]
  },
  {
   "cell_type": "code",
   "execution_count": 19,
   "metadata": {},
   "outputs": [
    {
     "data": {
      "text/plain": [
       "[<td><a href=\"/attack_mapping/TA0043\">TA0043 - Reconnaissance</a></td>,\n",
       " <td> The adversary is trying to gather information they can use to plan future operations.</td>]"
      ]
     },
     "execution_count": 19,
     "metadata": {},
     "output_type": "execute_result"
    }
   ],
   "source": [
    "con[0].find_all(\"td\")"
   ]
  },
  {
   "cell_type": "code",
   "execution_count": 26,
   "metadata": {},
   "outputs": [
    {
     "name": "stdout",
     "output_type": "stream",
     "text": [
      "0\n",
      "1\n",
      "2\n",
      "3\n",
      "4\n",
      "5\n",
      "6\n",
      "7\n",
      "8\n",
      "9\n",
      "10\n",
      "11\n",
      "12\n",
      "13\n",
      "14\n"
     ]
    }
   ],
   "source": [
    "l=[]\n",
    "for i, x in enumerate(con):\n",
    "    print(i)\n",
    "    y=x.find_all(\"td\")\n",
    "    if len(y)>0:\n",
    "        d={}\n",
    "        u=\"https://shield.mitre.org\"+y[0].find(\"a\").get(\"href\")\n",
    "        res2=requests.get(u)\n",
    "        soup2=BeautifulSoup(res2.text, \"lxml\")\n",
    "        con1=soup2.find_all('div', {\"class\":\"col-xs-12 col-sm-8 col-md-8\"})\n",
    "        d[\"ATT&CK Tactic\"]=y[0].text\n",
    "        d[\"Description\"]=y[1].text\n",
    "        d[\"other\"]=con1[0].text\n",
    "        l.append(d)\n",
    "    else:\n",
    "        pass\n",
    "    \n",
    "    "
   ]
  },
  {
   "cell_type": "code",
   "execution_count": 27,
   "metadata": {},
   "outputs": [
    {
     "data": {
      "text/plain": [
       "[{'ATT&CK Tactic': 'TA0043 - Reconnaissance',\n",
       "  'Description': ' The adversary is trying to gather information they can use to plan future operations.',\n",
       "  'other': '\\nMapping To Reconnaissance\\nFor a given ATT&CK® tactic, the table shows the adversary techniques that are used, the active defense\\n      opportunities that are created, the active defense techniques that can then be applied, and use cases to\\n      illustrate possible applications.\\n'},\n",
       " {'ATT&CK Tactic': 'TA0042 - Resource Development',\n",
       "  'Description': ' The adversary is trying to establish resources they can use to support operations.',\n",
       "  'other': '\\nMapping To Resource Development\\nFor a given ATT&CK® tactic, the table shows the adversary techniques that are used, the active defense\\n      opportunities that are created, the active defense techniques that can then be applied, and use cases to\\n      illustrate possible applications.\\n'},\n",
       " {'ATT&CK Tactic': 'TA0001 - Initial Access',\n",
       "  'Description': 'The adversary is trying to get into your network.',\n",
       "  'other': '\\nMapping To Initial Access\\nFor a given ATT&CK® tactic, the table shows the adversary techniques that are used, the active defense\\n      opportunities that are created, the active defense techniques that can then be applied, and use cases to\\n      illustrate possible applications.\\n'},\n",
       " {'ATT&CK Tactic': 'TA0002 - Execution',\n",
       "  'Description': 'The adversary is trying to run malicious code.',\n",
       "  'other': '\\nMapping To Execution\\nFor a given ATT&CK® tactic, the table shows the adversary techniques that are used, the active defense\\n      opportunities that are created, the active defense techniques that can then be applied, and use cases to\\n      illustrate possible applications.\\n'},\n",
       " {'ATT&CK Tactic': 'TA0003 - Persistence',\n",
       "  'Description': 'The adversary is trying to maintain their foothold.',\n",
       "  'other': '\\nMapping To Persistence\\nFor a given ATT&CK® tactic, the table shows the adversary techniques that are used, the active defense\\n      opportunities that are created, the active defense techniques that can then be applied, and use cases to\\n      illustrate possible applications.\\n'},\n",
       " {'ATT&CK Tactic': 'TA0004 - Privilege Escalation',\n",
       "  'Description': 'The adversary is trying to gain higher-level permissions.',\n",
       "  'other': '\\nMapping To Privilege Escalation\\nFor a given ATT&CK® tactic, the table shows the adversary techniques that are used, the active defense\\n      opportunities that are created, the active defense techniques that can then be applied, and use cases to\\n      illustrate possible applications.\\n'},\n",
       " {'ATT&CK Tactic': 'TA0005 - Defense Evasion',\n",
       "  'Description': 'The adversary is trying to avoid being detected.',\n",
       "  'other': '\\nMapping To Defense Evasion\\nFor a given ATT&CK® tactic, the table shows the adversary techniques that are used, the active defense\\n      opportunities that are created, the active defense techniques that can then be applied, and use cases to\\n      illustrate possible applications.\\n'},\n",
       " {'ATT&CK Tactic': 'TA0006 - Credential Access',\n",
       "  'Description': 'The adversary is trying to steal account names and passwords.',\n",
       "  'other': '\\nMapping To Credential Access\\nFor a given ATT&CK® tactic, the table shows the adversary techniques that are used, the active defense\\n      opportunities that are created, the active defense techniques that can then be applied, and use cases to\\n      illustrate possible applications.\\n'},\n",
       " {'ATT&CK Tactic': 'TA0007 - Discovery',\n",
       "  'Description': 'The adversary is trying to figure out your environment.',\n",
       "  'other': '\\nMapping To Discovery\\nFor a given ATT&CK® tactic, the table shows the adversary techniques that are used, the active defense\\n      opportunities that are created, the active defense techniques that can then be applied, and use cases to\\n      illustrate possible applications.\\n'},\n",
       " {'ATT&CK Tactic': 'TA0008 - Lateral Movement',\n",
       "  'Description': 'The adversary is trying to move through your environment.',\n",
       "  'other': '\\nMapping To Lateral Movement\\nFor a given ATT&CK® tactic, the table shows the adversary techniques that are used, the active defense\\n      opportunities that are created, the active defense techniques that can then be applied, and use cases to\\n      illustrate possible applications.\\n'},\n",
       " {'ATT&CK Tactic': 'TA0009 - Collection',\n",
       "  'Description': 'The adversary is trying to gather data of interest to their goal.',\n",
       "  'other': '\\nMapping To Collection\\nFor a given ATT&CK® tactic, the table shows the adversary techniques that are used, the active defense\\n      opportunities that are created, the active defense techniques that can then be applied, and use cases to\\n      illustrate possible applications.\\n'},\n",
       " {'ATT&CK Tactic': 'TA0010 - Exfiltration',\n",
       "  'Description': 'The adversary is trying to steal data.',\n",
       "  'other': '\\nMapping To Exfiltration\\nFor a given ATT&CK® tactic, the table shows the adversary techniques that are used, the active defense\\n      opportunities that are created, the active defense techniques that can then be applied, and use cases to\\n      illustrate possible applications.\\n'},\n",
       " {'ATT&CK Tactic': 'TA0011 - Command and Control',\n",
       "  'Description': 'The adversary is trying to communicate with compromised systems to control them.',\n",
       "  'other': '\\nMapping To Command and Control\\nFor a given ATT&CK® tactic, the table shows the adversary techniques that are used, the active defense\\n      opportunities that are created, the active defense techniques that can then be applied, and use cases to\\n      illustrate possible applications.\\n'},\n",
       " {'ATT&CK Tactic': 'TA0040 - Impact',\n",
       "  'Description': 'The adversary is trying to manipulate, interrupt, or destroy your systems and data.',\n",
       "  'other': '\\nMapping To Impact\\nFor a given ATT&CK® tactic, the table shows the adversary techniques that are used, the active defense\\n      opportunities that are created, the active defense techniques that can then be applied, and use cases to\\n      illustrate possible applications.\\n'}]"
      ]
     },
     "execution_count": 27,
     "metadata": {},
     "output_type": "execute_result"
    }
   ],
   "source": [
    "l"
   ]
  },
  {
   "cell_type": "code",
   "execution_count": 28,
   "metadata": {},
   "outputs": [],
   "source": [
    "df=pd.DataFrame(l)"
   ]
  },
  {
   "cell_type": "code",
   "execution_count": 29,
   "metadata": {},
   "outputs": [
    {
     "data": {
      "text/html": [
       "<div>\n",
       "<style scoped>\n",
       "    .dataframe tbody tr th:only-of-type {\n",
       "        vertical-align: middle;\n",
       "    }\n",
       "\n",
       "    .dataframe tbody tr th {\n",
       "        vertical-align: top;\n",
       "    }\n",
       "\n",
       "    .dataframe thead th {\n",
       "        text-align: right;\n",
       "    }\n",
       "</style>\n",
       "<table border=\"1\" class=\"dataframe\">\n",
       "  <thead>\n",
       "    <tr style=\"text-align: right;\">\n",
       "      <th></th>\n",
       "      <th>ATT&amp;CK Tactic</th>\n",
       "      <th>Description</th>\n",
       "      <th>other</th>\n",
       "    </tr>\n",
       "  </thead>\n",
       "  <tbody>\n",
       "    <tr>\n",
       "      <th>0</th>\n",
       "      <td>TA0043 - Reconnaissance</td>\n",
       "      <td>The adversary is trying to gather information...</td>\n",
       "      <td>\\nMapping To Reconnaissance\\nFor a given ATT&amp;C...</td>\n",
       "    </tr>\n",
       "    <tr>\n",
       "      <th>1</th>\n",
       "      <td>TA0042 - Resource Development</td>\n",
       "      <td>The adversary is trying to establish resource...</td>\n",
       "      <td>\\nMapping To Resource Development\\nFor a given...</td>\n",
       "    </tr>\n",
       "    <tr>\n",
       "      <th>2</th>\n",
       "      <td>TA0001 - Initial Access</td>\n",
       "      <td>The adversary is trying to get into your network.</td>\n",
       "      <td>\\nMapping To Initial Access\\nFor a given ATT&amp;C...</td>\n",
       "    </tr>\n",
       "    <tr>\n",
       "      <th>3</th>\n",
       "      <td>TA0002 - Execution</td>\n",
       "      <td>The adversary is trying to run malicious code.</td>\n",
       "      <td>\\nMapping To Execution\\nFor a given ATT&amp;CK® ta...</td>\n",
       "    </tr>\n",
       "    <tr>\n",
       "      <th>4</th>\n",
       "      <td>TA0003 - Persistence</td>\n",
       "      <td>The adversary is trying to maintain their foot...</td>\n",
       "      <td>\\nMapping To Persistence\\nFor a given ATT&amp;CK® ...</td>\n",
       "    </tr>\n",
       "    <tr>\n",
       "      <th>5</th>\n",
       "      <td>TA0004 - Privilege Escalation</td>\n",
       "      <td>The adversary is trying to gain higher-level p...</td>\n",
       "      <td>\\nMapping To Privilege Escalation\\nFor a given...</td>\n",
       "    </tr>\n",
       "    <tr>\n",
       "      <th>6</th>\n",
       "      <td>TA0005 - Defense Evasion</td>\n",
       "      <td>The adversary is trying to avoid being detected.</td>\n",
       "      <td>\\nMapping To Defense Evasion\\nFor a given ATT&amp;...</td>\n",
       "    </tr>\n",
       "    <tr>\n",
       "      <th>7</th>\n",
       "      <td>TA0006 - Credential Access</td>\n",
       "      <td>The adversary is trying to steal account names...</td>\n",
       "      <td>\\nMapping To Credential Access\\nFor a given AT...</td>\n",
       "    </tr>\n",
       "    <tr>\n",
       "      <th>8</th>\n",
       "      <td>TA0007 - Discovery</td>\n",
       "      <td>The adversary is trying to figure out your env...</td>\n",
       "      <td>\\nMapping To Discovery\\nFor a given ATT&amp;CK® ta...</td>\n",
       "    </tr>\n",
       "    <tr>\n",
       "      <th>9</th>\n",
       "      <td>TA0008 - Lateral Movement</td>\n",
       "      <td>The adversary is trying to move through your e...</td>\n",
       "      <td>\\nMapping To Lateral Movement\\nFor a given ATT...</td>\n",
       "    </tr>\n",
       "    <tr>\n",
       "      <th>10</th>\n",
       "      <td>TA0009 - Collection</td>\n",
       "      <td>The adversary is trying to gather data of inte...</td>\n",
       "      <td>\\nMapping To Collection\\nFor a given ATT&amp;CK® t...</td>\n",
       "    </tr>\n",
       "    <tr>\n",
       "      <th>11</th>\n",
       "      <td>TA0010 - Exfiltration</td>\n",
       "      <td>The adversary is trying to steal data.</td>\n",
       "      <td>\\nMapping To Exfiltration\\nFor a given ATT&amp;CK®...</td>\n",
       "    </tr>\n",
       "    <tr>\n",
       "      <th>12</th>\n",
       "      <td>TA0011 - Command and Control</td>\n",
       "      <td>The adversary is trying to communicate with co...</td>\n",
       "      <td>\\nMapping To Command and Control\\nFor a given ...</td>\n",
       "    </tr>\n",
       "    <tr>\n",
       "      <th>13</th>\n",
       "      <td>TA0040 - Impact</td>\n",
       "      <td>The adversary is trying to manipulate, interru...</td>\n",
       "      <td>\\nMapping To Impact\\nFor a given ATT&amp;CK® tacti...</td>\n",
       "    </tr>\n",
       "  </tbody>\n",
       "</table>\n",
       "</div>"
      ],
      "text/plain": [
       "                    ATT&CK Tactic  \\\n",
       "0         TA0043 - Reconnaissance   \n",
       "1   TA0042 - Resource Development   \n",
       "2         TA0001 - Initial Access   \n",
       "3              TA0002 - Execution   \n",
       "4            TA0003 - Persistence   \n",
       "5   TA0004 - Privilege Escalation   \n",
       "6        TA0005 - Defense Evasion   \n",
       "7      TA0006 - Credential Access   \n",
       "8              TA0007 - Discovery   \n",
       "9       TA0008 - Lateral Movement   \n",
       "10            TA0009 - Collection   \n",
       "11          TA0010 - Exfiltration   \n",
       "12   TA0011 - Command and Control   \n",
       "13                TA0040 - Impact   \n",
       "\n",
       "                                          Description  \\\n",
       "0    The adversary is trying to gather information...   \n",
       "1    The adversary is trying to establish resource...   \n",
       "2   The adversary is trying to get into your network.   \n",
       "3      The adversary is trying to run malicious code.   \n",
       "4   The adversary is trying to maintain their foot...   \n",
       "5   The adversary is trying to gain higher-level p...   \n",
       "6    The adversary is trying to avoid being detected.   \n",
       "7   The adversary is trying to steal account names...   \n",
       "8   The adversary is trying to figure out your env...   \n",
       "9   The adversary is trying to move through your e...   \n",
       "10  The adversary is trying to gather data of inte...   \n",
       "11             The adversary is trying to steal data.   \n",
       "12  The adversary is trying to communicate with co...   \n",
       "13  The adversary is trying to manipulate, interru...   \n",
       "\n",
       "                                                other  \n",
       "0   \\nMapping To Reconnaissance\\nFor a given ATT&C...  \n",
       "1   \\nMapping To Resource Development\\nFor a given...  \n",
       "2   \\nMapping To Initial Access\\nFor a given ATT&C...  \n",
       "3   \\nMapping To Execution\\nFor a given ATT&CK® ta...  \n",
       "4   \\nMapping To Persistence\\nFor a given ATT&CK® ...  \n",
       "5   \\nMapping To Privilege Escalation\\nFor a given...  \n",
       "6   \\nMapping To Defense Evasion\\nFor a given ATT&...  \n",
       "7   \\nMapping To Credential Access\\nFor a given AT...  \n",
       "8   \\nMapping To Discovery\\nFor a given ATT&CK® ta...  \n",
       "9   \\nMapping To Lateral Movement\\nFor a given ATT...  \n",
       "10  \\nMapping To Collection\\nFor a given ATT&CK® t...  \n",
       "11  \\nMapping To Exfiltration\\nFor a given ATT&CK®...  \n",
       "12  \\nMapping To Command and Control\\nFor a given ...  \n",
       "13  \\nMapping To Impact\\nFor a given ATT&CK® tacti...  "
      ]
     },
     "execution_count": 29,
     "metadata": {},
     "output_type": "execute_result"
    }
   ],
   "source": [
    "df"
   ]
  },
  {
   "cell_type": "code",
   "execution_count": 30,
   "metadata": {},
   "outputs": [],
   "source": [
    "df.to_csv(\"test.csv\", index=False)"
   ]
  },
  {
   "cell_type": "code",
   "execution_count": 31,
   "metadata": {},
   "outputs": [],
   "source": [
    "df.to_csv(\"test.csv\")"
   ]
  },
  {
   "cell_type": "markdown",
   "metadata": {},
   "source": [
    "### test"
   ]
  },
  {
   "cell_type": "code",
   "execution_count": 32,
   "metadata": {},
   "outputs": [
    {
     "data": {
      "text/plain": [
       "True"
      ]
     },
     "execution_count": 32,
     "metadata": {},
     "output_type": "execute_result"
    }
   ],
   "source": [
    "1 in [1,2,3]"
   ]
  },
  {
   "cell_type": "code",
   "execution_count": 33,
   "metadata": {},
   "outputs": [
    {
     "data": {
      "text/plain": [
       "False"
      ]
     },
     "execution_count": 33,
     "metadata": {},
     "output_type": "execute_result"
    }
   ],
   "source": [
    "1 in [4,5,6]"
   ]
  },
  {
   "cell_type": "code",
   "execution_count": 35,
   "metadata": {},
   "outputs": [
    {
     "data": {
      "text/plain": [
       "True"
      ]
     },
     "execution_count": 35,
     "metadata": {},
     "output_type": "execute_result"
    }
   ],
   "source": [
    "a={\"key\":\"value\"}\n",
    "\"key\" in a"
   ]
  },
  {
   "cell_type": "code",
   "execution_count": 36,
   "metadata": {},
   "outputs": [],
   "source": [
    "a={\"key\":\"value\", \"fruit\":\"apple\"}"
   ]
  },
  {
   "cell_type": "code",
   "execution_count": 37,
   "metadata": {},
   "outputs": [
    {
     "data": {
      "text/plain": [
       "dict_keys(['key', 'fruit'])"
      ]
     },
     "execution_count": 37,
     "metadata": {},
     "output_type": "execute_result"
    }
   ],
   "source": [
    "a.keys()"
   ]
  },
  {
   "cell_type": "code",
   "execution_count": 38,
   "metadata": {},
   "outputs": [
    {
     "data": {
      "text/plain": [
       "['__class__',\n",
       " '__contains__',\n",
       " '__delattr__',\n",
       " '__delitem__',\n",
       " '__dir__',\n",
       " '__doc__',\n",
       " '__eq__',\n",
       " '__format__',\n",
       " '__ge__',\n",
       " '__getattribute__',\n",
       " '__getitem__',\n",
       " '__gt__',\n",
       " '__hash__',\n",
       " '__init__',\n",
       " '__init_subclass__',\n",
       " '__iter__',\n",
       " '__le__',\n",
       " '__len__',\n",
       " '__lt__',\n",
       " '__ne__',\n",
       " '__new__',\n",
       " '__reduce__',\n",
       " '__reduce_ex__',\n",
       " '__repr__',\n",
       " '__reversed__',\n",
       " '__setattr__',\n",
       " '__setitem__',\n",
       " '__sizeof__',\n",
       " '__str__',\n",
       " '__subclasshook__',\n",
       " 'clear',\n",
       " 'copy',\n",
       " 'fromkeys',\n",
       " 'get',\n",
       " 'items',\n",
       " 'keys',\n",
       " 'pop',\n",
       " 'popitem',\n",
       " 'setdefault',\n",
       " 'update',\n",
       " 'values']"
      ]
     },
     "execution_count": 38,
     "metadata": {},
     "output_type": "execute_result"
    }
   ],
   "source": [
    "dir(a) #找變數可以加甚麼"
   ]
  },
  {
   "cell_type": "code",
   "execution_count": 43,
   "metadata": {},
   "outputs": [
    {
     "data": {
      "text/plain": [
       "1"
      ]
     },
     "execution_count": 43,
     "metadata": {},
     "output_type": "execute_result"
    }
   ],
   "source": [
    "a.get(\"fruit123\",1)"
   ]
  },
  {
   "cell_type": "markdown",
   "metadata": {},
   "source": []
  },
  {
   "cell_type": "code",
   "execution_count": 44,
   "metadata": {},
   "outputs": [
    {
     "data": {
      "text/plain": [
       "dict_values(['value', 'apple'])"
      ]
     },
     "execution_count": 44,
     "metadata": {},
     "output_type": "execute_result"
    }
   ],
   "source": [
    "a.values()"
   ]
  },
  {
   "cell_type": "code",
   "execution_count": 45,
   "metadata": {},
   "outputs": [
    {
     "data": {
      "text/plain": [
       "dict_items([('key', 'value'), ('fruit', 'apple')])"
      ]
     },
     "execution_count": 45,
     "metadata": {},
     "output_type": "execute_result"
    }
   ],
   "source": [
    "a.items()"
   ]
  },
  {
   "cell_type": "code",
   "execution_count": 47,
   "metadata": {},
   "outputs": [
    {
     "name": "stdout",
     "output_type": "stream",
     "text": [
      "k: key\n",
      "value\n",
      "k: fruit\n",
      "apple\n"
     ]
    }
   ],
   "source": [
    "for k, v in a.items():\n",
    "    print(\"k:\", k)\n",
    "    print(v)"
   ]
  },
  {
   "cell_type": "code",
   "execution_count": 51,
   "metadata": {},
   "outputs": [
    {
     "name": "stdout",
     "output_type": "stream",
     "text": [
      "a 23b38\n"
     ]
    }
   ],
   "source": [
    "print(\"a {}b{}\".format(23, 38))"
   ]
  },
  {
   "cell_type": "code",
   "execution_count": 53,
   "metadata": {},
   "outputs": [
    {
     "name": "stdout",
     "output_type": "stream",
     "text": [
      "hello\n"
     ]
    }
   ],
   "source": [
    "if 2>1:\n",
    "    print (\"hello\")"
   ]
  },
  {
   "cell_type": "code",
   "execution_count": 56,
   "metadata": {},
   "outputs": [
    {
     "name": "stdout",
     "output_type": "stream",
     "text": [
      "bye\n"
     ]
    }
   ],
   "source": [
    "if 2<1:\n",
    "    print(\"hello\")\n",
    "else:\n",
    "    print(\"bye\")"
   ]
  },
  {
   "cell_type": "code",
   "execution_count": 63,
   "metadata": {},
   "outputs": [],
   "source": [
    "animal=\"cat\""
   ]
  },
  {
   "cell_type": "code",
   "execution_count": 64,
   "metadata": {},
   "outputs": [
    {
     "data": {
      "text/plain": [
       "False"
      ]
     },
     "execution_count": 64,
     "metadata": {},
     "output_type": "execute_result"
    }
   ],
   "source": [
    "animal == (\"dog\")"
   ]
  },
  {
   "cell_type": "code",
   "execution_count": 70,
   "metadata": {},
   "outputs": [
    {
     "name": "stdout",
     "output_type": "stream",
     "text": [
      "meow\n"
     ]
    }
   ],
   "source": [
    "if animal == (\"dog\" or \"cat\"):\n",
    "    print(\"wow\")\n",
    "elif animal== \"cat\":\n",
    "    print(\"meow\")\n",
    "else:\n",
    "    pass"
   ]
  },
  {
   "cell_type": "code",
   "execution_count": 71,
   "metadata": {},
   "outputs": [
    {
     "data": {
      "text/plain": [
       "'cat'"
      ]
     },
     "execution_count": 71,
     "metadata": {},
     "output_type": "execute_result"
    }
   ],
   "source": [
    "animal"
   ]
  },
  {
   "cell_type": "code",
   "execution_count": 72,
   "metadata": {},
   "outputs": [
    {
     "data": {
      "text/plain": [
       "False"
      ]
     },
     "execution_count": 72,
     "metadata": {},
     "output_type": "execute_result"
    }
   ],
   "source": [
    "animal == (\"dog\" or \"cat\")"
   ]
  },
  {
   "cell_type": "code",
   "execution_count": 73,
   "metadata": {},
   "outputs": [
    {
     "data": {
      "text/plain": [
       "True"
      ]
     },
     "execution_count": 73,
     "metadata": {},
     "output_type": "execute_result"
    }
   ],
   "source": [
    "(animal == \"dog\") or (animal == \"cat\")"
   ]
  },
  {
   "cell_type": "code",
   "execution_count": 74,
   "metadata": {},
   "outputs": [
    {
     "data": {
      "text/plain": [
       "True"
      ]
     },
     "execution_count": 74,
     "metadata": {},
     "output_type": "execute_result"
    }
   ],
   "source": [
    "True or False"
   ]
  },
  {
   "cell_type": "code",
   "execution_count": 75,
   "metadata": {},
   "outputs": [
    {
     "data": {
      "text/plain": [
       "False"
      ]
     },
     "execution_count": 75,
     "metadata": {},
     "output_type": "execute_result"
    }
   ],
   "source": [
    "True and False"
   ]
  },
  {
   "cell_type": "code",
   "execution_count": 76,
   "metadata": {},
   "outputs": [
    {
     "data": {
      "text/plain": [
       "False"
      ]
     },
     "execution_count": 76,
     "metadata": {},
     "output_type": "execute_result"
    }
   ],
   "source": [
    "False and False"
   ]
  },
  {
   "cell_type": "code",
   "execution_count": 77,
   "metadata": {},
   "outputs": [
    {
     "data": {
      "text/plain": [
       "True"
      ]
     },
     "execution_count": 77,
     "metadata": {},
     "output_type": "execute_result"
    }
   ],
   "source": [
    "True and True"
   ]
  },
  {
   "cell_type": "code",
   "execution_count": 78,
   "metadata": {},
   "outputs": [
    {
     "data": {
      "text/plain": [
       "False"
      ]
     },
     "execution_count": 78,
     "metadata": {},
     "output_type": "execute_result"
    }
   ],
   "source": [
    "not True"
   ]
  },
  {
   "cell_type": "code",
   "execution_count": 79,
   "metadata": {},
   "outputs": [
    {
     "data": {
      "text/plain": [
       "-2"
      ]
     },
     "execution_count": 79,
     "metadata": {},
     "output_type": "execute_result"
    }
   ],
   "source": [
    "~ True"
   ]
  },
  {
   "cell_type": "code",
   "execution_count": 80,
   "metadata": {},
   "outputs": [
    {
     "data": {
      "text/plain": [
       "True"
      ]
     },
     "execution_count": 80,
     "metadata": {},
     "output_type": "execute_result"
    }
   ],
   "source": [
    "True and not False"
   ]
  },
  {
   "cell_type": "code",
   "execution_count": 81,
   "metadata": {},
   "outputs": [
    {
     "data": {
      "text/plain": [
       "False"
      ]
     },
     "execution_count": 81,
     "metadata": {},
     "output_type": "execute_result"
    }
   ],
   "source": [
    "True & False"
   ]
  },
  {
   "cell_type": "code",
   "execution_count": 82,
   "metadata": {},
   "outputs": [
    {
     "data": {
      "text/plain": [
       "True"
      ]
     },
     "execution_count": 82,
     "metadata": {},
     "output_type": "execute_result"
    }
   ],
   "source": [
    "True | False"
   ]
  },
  {
   "cell_type": "code",
   "execution_count": 87,
   "metadata": {},
   "outputs": [
    {
     "name": "stdout",
     "output_type": "stream",
     "text": [
      "0\n"
     ]
    },
    {
     "data": {
      "text/plain": [
       "False"
      ]
     },
     "execution_count": 87,
     "metadata": {},
     "output_type": "execute_result"
    }
   ],
   "source": [
    "count=0\n",
    "print (count)\n",
    "count=count+1\n",
    "count>10"
   ]
  },
  {
   "cell_type": "code",
   "execution_count": null,
   "metadata": {},
   "outputs": [],
   "source": []
  }
 ],
 "metadata": {
  "kernelspec": {
   "display_name": "Python 3",
   "language": "python",
   "name": "python3"
  },
  "language_info": {
   "codemirror_mode": {
    "name": "ipython",
    "version": 3
   },
   "file_extension": ".py",
   "mimetype": "text/x-python",
   "name": "python",
   "nbconvert_exporter": "python",
   "pygments_lexer": "ipython3",
   "version": "3.8.5"
  }
 },
 "nbformat": 4,
 "nbformat_minor": 4
}
